{
 "cells": [
  {
   "cell_type": "code",
   "execution_count": 1,
   "metadata": {
    "collapsed": true
   },
   "outputs": [],
   "source": [
    "## Import Libraries\n",
    "import functools\n",
    "import csv"
   ]
  },
  {
   "cell_type": "code",
   "execution_count": 8,
   "metadata": {
    "collapsed": false
   },
   "outputs": [],
   "source": [
    "## Import command List file as an array\n",
    "## HEX command, number of bits, command name, command description\n",
    "def csv2list(filename):\n",
    "    with open(filename, newline='') as csvfile:\n",
    "        data = list(csv.reader(csvfile))\n",
    "        \n",
    "    # Clean up data\n",
    "    for i in range(0, len(data)):\n",
    "        # Make first  column, the command in hexadecimal\n",
    "        #data[i][0] = hex( int(data[i][0], 16) )\n",
    "        # Make second column, the number of input parameters and integer\n",
    "        data[i][1] = int( data[i][1] )\n",
    "    return data\n",
    "\n",
    "    \n",
    "# GUI result to list\n",
    "def str2list(str_input):\n",
    "    # Returns a list containing the string values\n",
    "    return str_input.split(\" \")\n",
    "    # Returns a list containing the hexadecimal values\n",
    "    #return [hex(int(i,16)) for i in str_list]\n",
    "\n",
    "# Checksum function\n",
    "# XOR all the bits in a list of strings\n",
    "#example of function: checksum([\"a0\",\"04\",\"6d\",\"60\", \"a9\"])\n",
    "def checksum(list_input):\n",
    "    if (len(list_input) == 1 or type(list_input) == str):\n",
    "        return str(list_input + \" \" + list_input)\n",
    "    hexvalue = functools.reduce(lambda a, b: hex( int(a,16) ^ int(b,16) ), list_input)\n",
    "    return hexvalue\n",
    "\n",
    "#example of function: checksum_valid([\"a0\",\"04\",\"6d\",\"60\", \"a8\"])\n",
    "def checksum_valid(list_input):\n",
    "    return checksum(list_input) == '0x0'\n",
    "\n",
    "def askCheckIfCommandExist(string_input, list_command, numTries = 5):\n",
    "    while (numTries > 0):\n",
    "        for i in range(0, len(list_command) ):\n",
    "            #print(string_input , amwf_command[i][2], string_input == amwf_command[i][2])\n",
    "            if (string_input == list_command[i][2] ):\n",
    "                return list_command[i]\n",
    "        string_input = input(\"Try Again. \")\n",
    "        numTries = numTries - 1\n",
    "    return False\n",
    "\n",
    "## Look up command\n",
    "def hexstring2ENG(list_input, list_command):\n",
    "    # Set up what user command actually is\n",
    "    command = list_input[0]\n",
    "    length = len(list_command)\n",
    "    # Loop through the command list to find it's corresponding name and description\n",
    "    for i in range(0, length):\n",
    "        #print( command , list_command[i][0] , command.upper() == list_command[i][0] )\n",
    "        if (command.upper() == list_command[i][0]): # If the command hex matches that of the command list\n",
    "            return list_command[i][2] # Print the name of the command\n",
    "    return \"Not valid command\"\n",
    "    \n",
    "## Convert user inputs into the command format    \n",
    "def ENG2hexstring(list_command):\n",
    "    ## Ask for user input\n",
    "    print(\"List of commands through UART:\")\n",
    "    for i in list_command:\n",
    "        print(i[2])\n",
    "    user_input = input(\"Enter a command to convert to HEX: \")\n",
    "    user_input = askCheckIfCommandExist(user_input, list_command)\n",
    "    \n",
    "    ## Demonstrate if command is sending or requesting information\n",
    "    assert type(user_input) == list, \"User input command not found\"\n",
    "    if ( int(user_input[1]) == 0):\n",
    "        print( checksum(user_input[0]) )\n",
    "\n",
    "# Command that stores 8 bytes of information\n",
    "def command_setScratch(value):\n",
    "    #Assume value between 0 and 268 435 456, 00 00 00 00 to FF FF FF FF\n",
    "    if (value > 255):\n",
    "        value = value - 255\n",
    "    mes = str('81' +\" \"+ str(a) +\" \"+ str(b) +\" \"+ str(c) +\" \"+ str(d) )\n",
    "    endbit = checksum(str2list(mes))\n",
    "    return mes + \" \" + endbit"
   ]
  },
  {
   "cell_type": "code",
   "execution_count": 4,
   "metadata": {
    "collapsed": false
   },
   "outputs": [
    {
     "name": "stdout",
     "output_type": "stream",
     "text": [
      "List of commands through UART:\n",
      "Set Scratch Value\n",
      "Read Scratch Value\n",
      "Request Fixed Sequence\n",
      "PAA Pointing Command\n",
      "Array Configuration Request\n",
      "Factory Reset\n",
      "Configure IP Address\n",
      "Enable Beam\n",
      "Status Summary Request\n",
      "Status Detail Request\n",
      "Enter a command to convert to HEX: Status Summary Request\n",
      "F0 F0\n"
     ]
    }
   ],
   "source": [
    "amwf_command = csv2list('awmf0129_commandlist.csv')\n",
    "#print(amwf_command)\n",
    "\n",
    "#print( checksum_valid( h2l(\"ec 00 00 00 73 9f\") ) )\n",
    "\n",
    "#ex1 = h2l(\"b1 b1\")\n",
    "#hexstring2ENG(ex1, amwf_command)\n",
    "\n",
    "ENG2hexstring(amwf_command)"
   ]
  },
  {
   "cell_type": "code",
   "execution_count": 10,
   "metadata": {
    "collapsed": false
   },
   "outputs": [
    {
     "name": "stdout",
     "output_type": "stream",
     "text": [
      "['a0', '00']\n",
      "True\n",
      "PAA Pointing Command\n",
      "a0 a0\n",
      "81 0 0 0 0 0x81\n"
     ]
    }
   ],
   "source": [
    "print( str2list('a0 00') ) \n",
    "print( checksum_valid(h2l('a0 a0')))\n",
    "print( hexstring2ENG(h2l('a0 00'), amwf_command) )\n",
    "\n",
    "ans = askCheckIfCommandExist('Status Summary Request', amwf_command)\n",
    "print( checksum('a0') )\n",
    "print(command_setScratch(00, 00, 00, 00))"
   ]
  },
  {
   "cell_type": "code",
   "execution_count": 20,
   "metadata": {
    "collapsed": false
   },
   "outputs": [
    {
     "data": {
      "text/plain": [
       "'ffffffff'"
      ]
     },
     "execution_count": 20,
     "metadata": {},
     "output_type": "execute_result"
    }
   ],
   "source": [
    "format(4294967295, '02x')"
   ]
  },
  {
   "cell_type": "code",
   "execution_count": null,
   "metadata": {
    "collapsed": true
   },
   "outputs": [],
   "source": []
  }
 ],
 "metadata": {
  "anaconda-cloud": {},
  "kernelspec": {
   "display_name": "Python [conda root]",
   "language": "python",
   "name": "conda-root-py"
  },
  "language_info": {
   "codemirror_mode": {
    "name": "ipython",
    "version": 3
   },
   "file_extension": ".py",
   "mimetype": "text/x-python",
   "name": "python",
   "nbconvert_exporter": "python",
   "pygments_lexer": "ipython3",
   "version": "3.5.2"
  }
 },
 "nbformat": 4,
 "nbformat_minor": 1
}
